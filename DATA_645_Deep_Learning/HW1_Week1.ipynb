{
 "cells": [
  {
   "cell_type": "markdown",
   "metadata": {},
   "source": [
    "## Exercise 1\n",
    "Homework 1:\n",
    "Rachel Rolle"
   ]
  },
  {
   "cell_type": "markdown",
   "metadata": {},
   "source": [
    "### 2.3.4 -1"
   ]
  },
  {
   "cell_type": "code",
   "execution_count": 9,
   "metadata": {},
   "outputs": [
    {
     "name": "stdout",
     "output_type": "stream",
     "text": [
      "Hello World\n"
     ]
    }
   ],
   "source": [
    "\n",
    "'Hello World'\n",
    "\n",
    "'Hello' + 'World'\n",
    "\n",
    "'Hi' *3\n",
    "\n",
    "msg = 'Hello World'\n",
    "msg\n",
    "\n",
    "print(msg)"
   ]
  },
  {
   "cell_type": "markdown",
   "metadata": {},
   "source": [
    "### 2.3.4 - 2"
   ]
  },
  {
   "cell_type": "markdown",
   "metadata": {},
   "source": [
    "### a"
   ]
  },
  {
   "cell_type": "code",
   "execution_count": 10,
   "metadata": {},
   "outputs": [],
   "source": [
    "msg = 'I like NLP!'"
   ]
  },
  {
   "cell_type": "markdown",
   "metadata": {},
   "source": [
    "### b"
   ]
  },
  {
   "cell_type": "code",
   "execution_count": 11,
   "metadata": {},
   "outputs": [
    {
     "name": "stdout",
     "output_type": "stream",
     "text": [
      "I like NLP!\n"
     ]
    }
   ],
   "source": [
    "print(msg)"
   ]
  },
  {
   "cell_type": "markdown",
   "metadata": {},
   "source": [
    "### c"
   ]
  },
  {
   "cell_type": "code",
   "execution_count": 13,
   "metadata": {},
   "outputs": [
    {
     "name": "stdout",
     "output_type": "stream",
     "text": [
      "I like NLP!I like NLP!\n"
     ]
    },
    {
     "data": {
      "text/plain": [
       "'I like NLP!I like NLP!I like NLP!I like NLP!I like NLP!'"
      ]
     },
     "execution_count": 13,
     "metadata": {},
     "output_type": "execute_result"
    }
   ],
   "source": [
    "print(msg + msg)\n",
    "5*msg"
   ]
  },
  {
   "cell_type": "markdown",
   "metadata": {},
   "source": [
    "### d"
   ]
  },
  {
   "cell_type": "code",
   "execution_count": 18,
   "metadata": {},
   "outputs": [
    {
     "name": "stdout",
     "output_type": "stream",
     "text": [
      "helloI like NLP!\n"
     ]
    },
    {
     "data": {
      "text/plain": [
       "'hello, I like NLP!'"
      ]
     },
     "execution_count": 18,
     "metadata": {},
     "output_type": "execute_result"
    }
   ],
   "source": [
    "greet = 'hello'\n",
    "print(greet + msg)\n",
    "greet + ', ' + msg"
   ]
  },
  {
   "cell_type": "markdown",
   "metadata": {},
   "source": [
    "### 2.4.5 - 1"
   ]
  },
  {
   "cell_type": "code",
   "execution_count": 11,
   "metadata": {},
   "outputs": [
    {
     "name": "stdout",
     "output_type": "stream",
     "text": [
      "['Hello', 'world', 'ok']\n",
      "['Hello', 'ok', 'world']\n",
      "l\n",
      "o\n",
      "l\n"
     ]
    },
    {
     "data": {
      "text/plain": [
       "['Hello', 'ok', 'world']"
      ]
     },
     "execution_count": 11,
     "metadata": {},
     "output_type": "execute_result"
    }
   ],
   "source": [
    "import pandas as p\n",
    "\n",
    "practice = ['Hello', 'world']\n",
    "practice.append('ok')\n",
    "print(practice)\n",
    "\n",
    "practice.sort()\n",
    "print(practice)\n",
    "\n",
    "\n",
    "\n",
    "for i in practice:\n",
    "    print(i[-2])\n",
    "\n",
    "combine = ' '.join(practice)\n",
    "combine\n",
    "\n",
    "combine.split(' ')\n",
    "\n",
    "\n"
   ]
  },
  {
   "cell_type": "markdown",
   "metadata": {},
   "source": [
    "### 2.4.5 - 2"
   ]
  },
  {
   "cell_type": "code",
   "execution_count": 23,
   "metadata": {},
   "outputs": [
    {
     "name": "stdout",
     "output_type": "stream",
     "text": [
      "colourless\n"
     ]
    }
   ],
   "source": [
    "s = 'colorless'\n",
    "s= 'ur'.join(s.split('r'))\n",
    "print(s)"
   ]
  },
  {
   "cell_type": "markdown",
   "metadata": {},
   "source": [
    "### 2.4.5 - 3"
   ]
  },
  {
   "cell_type": "code",
   "execution_count": 30,
   "metadata": {},
   "outputs": [
    {
     "name": "stdout",
     "output_type": "stream",
     "text": [
      "[9, 5, 5, 5, 9]\n"
     ]
    }
   ],
   "source": [
    "b = ['colorless', 'green', 'ideas', 'sleep', 'furiously']\n",
    "\n",
    "c = []\n",
    "for word in b:\n",
    "    c.append(len(word))\n",
    "\n",
    "print(c)"
   ]
  },
  {
   "cell_type": "markdown",
   "metadata": {},
   "source": [
    "### 2.4.5 - 4 a & b"
   ]
  },
  {
   "cell_type": "code",
   "execution_count": 41,
   "metadata": {},
   "outputs": [
    {
     "name": "stdout",
     "output_type": "stream",
     "text": [
      "eoldrnnnna\n"
     ]
    }
   ],
   "source": [
    "silly = 'newly formed bland ideas are unexpressible in an infuriating way'\n",
    "\n",
    "#a\n",
    "sil = silly.split(' ')\n",
    "\n",
    "#b\n",
    "word = [sec[1] for sec in sil]\n",
    "\n",
    "result =''.join(word)\n",
    "\n",
    "print(result)"
   ]
  },
  {
   "cell_type": "markdown",
   "metadata": {},
   "source": [
    "### 2.5.4 - 1"
   ]
  },
  {
   "cell_type": "markdown",
   "metadata": {},
   "source": [
    "### a"
   ]
  },
  {
   "cell_type": "code",
   "execution_count": 54,
   "metadata": {},
   "outputs": [
    {
     "name": "stdout",
     "output_type": "stream",
     "text": [
      "she\n",
      "shells\n",
      "sells\n",
      "shells\n",
      "seashore\n"
     ]
    }
   ],
   "source": [
    "sentence = 'she sells sea shells by the seashore'\n",
    "sent = sentence.split(' ')\n",
    "\n",
    "for s in sent:\n",
    "    if s.startswith('sh'):\n",
    "        print(s)\n",
    "\n"
   ]
  },
  {
   "cell_type": "markdown",
   "metadata": {},
   "source": [
    "### b"
   ]
  },
  {
   "cell_type": "code",
   "execution_count": 55,
   "metadata": {},
   "outputs": [
    {
     "name": "stdout",
     "output_type": "stream",
     "text": [
      "sells\n",
      "shells\n",
      "seashore\n"
     ]
    }
   ],
   "source": [
    "for l in sent:\n",
    "    if len(l) > 4:\n",
    "        print(l)"
   ]
  },
  {
   "cell_type": "markdown",
   "metadata": {},
   "source": [
    "### c"
   ]
  },
  {
   "cell_type": "code",
   "execution_count": 61,
   "metadata": {},
   "outputs": [
    {
     "name": "stdout",
     "output_type": "stream",
     "text": [
      "she like sells like sea shells by the like seashore\n"
     ]
    }
   ],
   "source": [
    "new = ['like ' + n if n.startswith('se') else n for n in sent]\n",
    "\n",
    "\n",
    "print(' '.join(new))\n"
   ]
  },
  {
   "cell_type": "markdown",
   "metadata": {},
   "source": [
    "### 2.5.4 - 2"
   ]
  },
  {
   "cell_type": "code",
   "execution_count": 68,
   "metadata": {},
   "outputs": [
    {
     "name": "stdout",
     "output_type": "stream",
     "text": [
      "Th gl f ths xrcs s t rmv vwls\n"
     ]
    }
   ],
   "source": [
    "sentence = 'The goal of this exercise is to remove vowels'\n",
    "\n",
    "for v in sentence:\n",
    "    if v.lower() not in ['a', 'e', 'i', 'o', 'u']:\n",
    "        print(v, end='')\n",
    "\n",
    "print()"
   ]
  },
  {
   "cell_type": "markdown",
   "metadata": {},
   "source": [
    "### 2.6.4 -1"
   ]
  },
  {
   "cell_type": "code",
   "execution_count": 8,
   "metadata": {},
   "outputs": [],
   "source": [
    "d = {'furiously': 'adv', 'ideas': 'n', 'colorless': 'adj'}\n",
    "#d['xyz'] it says KeyError: 'xyz' does not exist"
   ]
  },
  {
   "cell_type": "markdown",
   "metadata": {},
   "source": [
    "## Exercise 2"
   ]
  },
  {
   "cell_type": "code",
   "execution_count": 3,
   "metadata": {},
   "outputs": [
    {
     "name": "stdout",
     "output_type": "stream",
     "text": [
      "{1: 1, 2: 4, 3: 9, 4: 16}\n"
     ]
    }
   ],
   "source": [
    "\n",
    "#function squaring_dictionary\n",
    "    #input: n, an integer\n",
    "    #output: sq_dict={1:n} a dictionary with keys from (1...n), with values equal to n**2\n",
    "\n",
    "#Example: squaring_dictionary(4)\n",
    "            #returns {1:1, 2:4, 3:9, 4:16}\n",
    "\n",
    "def squaring_dictionary(n):\n",
    "    sq_dict = {}\n",
    "    for i in range (1, n+1):\n",
    "        sq_dict[i] = i**2\n",
    "\n",
    "    return sq_dict\n",
    "\n",
    "#Example\n",
    "result = squaring_dictionary(4)\n",
    "print(result)"
   ]
  },
  {
   "cell_type": "markdown",
   "metadata": {},
   "source": [
    "## Exercise 3"
   ]
  },
  {
   "cell_type": "code",
   "execution_count": 1,
   "metadata": {},
   "outputs": [],
   "source": [
    "lloyd = {\n",
    "    'name': 'Lloyd',\n",
    "    'homework': [90.0, 97.0, 75.0, 92.0],\n",
    "    'quizzes': [88.0, 40.0,94.0],\n",
    "    'tests': [75.0, 90.0]\n",
    "}\n",
    "\n",
    "alice = {\n",
    "    'name': 'Alice',\n",
    "    'homework': [100.0, 92.0, 98.0, 100.0],\n",
    "    'quizzes': [82.0, 83.0, 91.0],\n",
    "    'tests': [89.0, 97.0]\n",
    "}\n",
    "tyler = {\n",
    "    'name': 'Tyler',\n",
    "    'homework': [0.0, 87.0, 75.0, 22.0],\n",
    "    'quizzes': [0.0, 75.0, 78.0],\n",
    "    'tests': [100.0, 100.0]\n",
    "}\n"
   ]
  },
  {
   "cell_type": "markdown",
   "metadata": {},
   "source": [
    "### a"
   ]
  },
  {
   "cell_type": "code",
   "execution_count": 37,
   "metadata": {},
   "outputs": [
    {
     "name": "stdout",
     "output_type": "stream",
     "text": [
      "Tyler's Averages:\n",
      "Homework: 46.0\n",
      "Quizzes: 51.0\n",
      "Tests: 100.0\n"
     ]
    }
   ],
   "source": [
    "def work_averages(in_dict):\n",
    "    required_keys = ['homework', 'quizzes', 'tests']\n",
    "    name = in_dict.get('name')\n",
    "\n",
    "    if all(key in in_dict for key in required_keys):\n",
    "        print(f\"{name.capitalize()}'s Averages:\")\n",
    "        for key in required_keys:\n",
    "            avg = sum(in_dict[key]) / len(in_dict[key])\n",
    "            print(f\"{key.capitalize()}: {avg:.1f}\")\n",
    "    else:\n",
    "        print(\"One or more keys not found in the dictionary.\")\n",
    "\n",
    "work_averages(tyler)"
   ]
  },
  {
   "cell_type": "markdown",
   "metadata": {},
   "source": [
    "### b"
   ]
  },
  {
   "cell_type": "code",
   "execution_count": 38,
   "metadata": {},
   "outputs": [
    {
     "name": "stdout",
     "output_type": "stream",
     "text": [
      "Tyler's Averages:\n",
      "Homework: 0.0\n",
      "Quizzes: 0.0\n",
      "Tests: 100.0\n"
     ]
    }
   ],
   "source": [
    "def lowest_score(in_dict):\n",
    "    keys = ['homework', 'quizzes', 'tests']\n",
    "    name = in_dict.get('name')\n",
    "\n",
    "    if all(key in in_dict for key in keys):\n",
    "        print(f\"{name.capitalize()}'s Averages:\")\n",
    "        for key in keys:\n",
    "            low = min(in_dict[key])\n",
    "            print(f\"{key.capitalize()}: {low:.1f}\")\n",
    "\n",
    "lowest_score(tyler)"
   ]
  }
 ],
 "metadata": {
  "kernelspec": {
   "display_name": "Python 3",
   "language": "python",
   "name": "python3"
  },
  "language_info": {
   "codemirror_mode": {
    "name": "ipython",
    "version": 3
   },
   "file_extension": ".py",
   "mimetype": "text/x-python",
   "name": "python",
   "nbconvert_exporter": "python",
   "pygments_lexer": "ipython3",
   "version": "3.11.7"
  }
 },
 "nbformat": 4,
 "nbformat_minor": 2
}
